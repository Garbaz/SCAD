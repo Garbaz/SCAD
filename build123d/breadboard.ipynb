{
 "cells": [
  {
   "cell_type": "code",
   "execution_count": 1,
   "metadata": {},
   "outputs": [],
   "source": [
    "from build123d import *\n",
    "from ocp_vscode import show"
   ]
  },
  {
   "cell_type": "code",
   "execution_count": 29,
   "metadata": {},
   "outputs": [
    {
     "name": "stdout",
     "output_type": "stream",
     "text": [
      "+"
     ]
    }
   ],
   "source": [
    "def wedge(\n",
    "    length=1.3 * MM,\n",
    "    width_near=3.3 * MM,\n",
    "    width_far=3.8 * MM,\n",
    "    height=4.4 * MM,\n",
    "    mode=Mode.ADD,\n",
    "):\n",
    "    with BuildPart() as wedge:\n",
    "        wn2 = width_near / 2\n",
    "        wf2 = width_far / 2\n",
    "        with BuildSketch():\n",
    "            Polygon([(0, -wn2), (0, wn2), (length, wf2), (length, -wf2)])\n",
    "        extrude(amount=height, mode=mode)\n",
    "    return wedge\n",
    "\n",
    "\n",
    "show(wedge())"
   ]
  },
  {
   "cell_type": "code",
   "execution_count": 31,
   "metadata": {},
   "outputs": [
    {
     "name": "stdout",
     "output_type": "stream",
     "text": [
      "+"
     ]
    }
   ],
   "source": [
    "length, width, height = 82.5 * MM, 55 * MM, 8.5 * MM\n",
    "\n",
    "with BuildPart() as breadboard:\n",
    "    Box(length, width, height)\n",
    "    top_face = breadboard.faces().sort_by(Axis.Z)[-1]\n",
    "    with BuildSketch(top_face):\n",
    "        Rectangle(length, 2.1 * MM)\n",
    "    extrude(amount=-3 * MM, mode=Mode.SUBTRACT)\n",
    "\n",
    "\n",
    "show(breadboard)"
   ]
  }
 ],
 "metadata": {
  "kernelspec": {
   "display_name": ".venv",
   "language": "python",
   "name": "python3"
  },
  "language_info": {
   "codemirror_mode": {
    "name": "ipython",
    "version": 3
   },
   "file_extension": ".py",
   "mimetype": "text/x-python",
   "name": "python",
   "nbconvert_exporter": "python",
   "pygments_lexer": "ipython3",
   "version": "3.11.8"
  }
 },
 "nbformat": 4,
 "nbformat_minor": 2
}
